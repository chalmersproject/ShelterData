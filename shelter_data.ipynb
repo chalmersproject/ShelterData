{
 "cells": [
  {
   "cell_type": "markdown",
   "metadata": {},
   "source": [
    "## Exploring Shelter Data\n",
    "I'm taking it upon myself to learn a bit about data science. \n",
    "\n",
    "Since I have a lot of interest in homeless services in Toronto (see [ChalmersCards](chalmerscards.com)), I felt Toronto's [public shelter occupancy dataset](https://www.toronto.ca/ext/open_data/catalog/data_set_files/SMIS_Daily_Occupancy_2017.csv) would make a good learning environment.\n",
    "\n",
    "---\n",
    "#### My current understanding of the application of datascience:\n",
    "Data Science: The task of generating insights.\n",
    "\n",
    "Actionable insights are determined by understanding the values of the client/subject, and using those values to define an appropriate research question. \n",
    "\n",
    "1. A research **question** is used to define the research **method**. \n",
    "2. Executing the **method** will render a **result and insights**. \n",
    "3. From the **insight**, **actions** can be determined. \n",
    "\n",
    "---\n",
    "#### Understanding the client\n",
    "One of shelters' greatest concerns is capacity. Other than shelter names and propteties, it's the only metric tracked in this database.\n",
    "\n",
    "Maybe my question could be:\n",
    "**Question** Which shelters are most susceptible to hitting capacity?\n",
    "or\n",
    "**Question** During what time of the year is Shelter occupancy highest?\n",
    "or\n",
    "**Question** Which shelter type (male/femeale/mix/family) has the highest occupancy?\n",
    "\n",
    "> I'll tackle these items one at a time"
   ]
  },
  {
   "cell_type": "markdown",
   "metadata": {},
   "source": [
    "# Which shelters are most suseptible to hitting capacity?\n",
    "\n",
    "+ Question : Which shelters are most susceptible to hitting capacity?\n",
    "+ Method : For each shelter, collect capacity numbers for the year. Find which shelters spend the most time with their occupancy close to their capacity"
   ]
  },
  {
   "cell_type": "code",
   "execution_count": 7,
   "metadata": {},
   "outputs": [],
   "source": [
    "import pandas as pd"
   ]
  },
  {
   "cell_type": "code",
   "execution_count": 8,
   "metadata": {},
   "outputs": [],
   "source": [
    "import numpy as np"
   ]
  },
  {
   "cell_type": "code",
   "execution_count": 9,
   "metadata": {},
   "outputs": [],
   "source": [
    "import matplotlib.pyplot as plt"
   ]
  },
  {
   "cell_type": "markdown",
   "metadata": {},
   "source": [
    "## Importing Libraries\n",
    "I don't really know what I'm doing, so I'll grab pandas, it's dependancy numPy, and a visualization library matPlotLib. "
   ]
  },
  {
   "cell_type": "code",
   "execution_count": 11,
   "metadata": {
    "scrolled": false
   },
   "outputs": [
    {
     "name": "stdout",
     "output_type": "stream",
     "text": [
      "Index(['OCCUPANCY_DATE', 'ORGANIZATION_NAME', 'SHELTER_NAME',\n",
      "       'SHELTER_ADDRESS', 'SHELTER_CITY', 'SHELTER_PROVINCE',\n",
      "       'SHELTER_POSTAL_CODE', 'FACILITY_NAME', 'PROGRAM_NAME', 'SECTOR',\n",
      "       'OCCUPANCY', 'CAPACITY'],\n",
      "      dtype='object')\n"
     ]
    }
   ],
   "source": [
    "data = pd.read_csv('data/shelter_Occupancy_2017.csv')\n",
    "print(data.columns)"
   ]
  },
  {
   "cell_type": "markdown",
   "metadata": {},
   "source": [
    "## Importing dataset\n",
    "I've grabbed the shelter_occupancy_2017.csv dataset from Toronto's open data portal. I've also printed all the columns for reference.\n",
    "\n",
    "Now what I need to do is grab all the shelters occupancy/capacity numbers and find which shelters were always close to capacity\n",
    "\n",
    "## Defining the method\n",
    "This may be an unfair assumption, but I'll make it anyway:\n",
    "\n",
    "---\n",
    "> A shelter's facilities will be built around it's capacity. Therefore, what matters most to the shelter's performance is the proportion of free beds, and not the number of free beds. \n",
    "\n",
    "For example, using the above assumption, we would infer that:\n",
    "> Shelter 'A' that is at 68/69 beds capacity\n",
    "\n",
    "is in worse shape than \n",
    "> Shelter 'B' that is at 9/10 beds capacity\n",
    "\n",
    "because shelter 'A' has 0.014% capacity left, while shelter 'B' has 10% capacity left\n",
    "\n",
    "---\n",
    "What I'll try to find out:\n",
    "1. find out: What are the top 90th percentile shelters for highest capacity percentage\n",
    "2. find out: of that top 10%, which 3 shelters most often hit 100% capacity"
   ]
  },
  {
   "cell_type": "code",
   "execution_count": 12,
   "metadata": {},
   "outputs": [
    {
     "name": "stdout",
     "output_type": "stream",
     "text": [
      "OCCUPANCY_DATE                               01/01/2017\n",
      "ORGANIZATION_NAME              COSTI Immigrant Services\n",
      "SHELTER_NAME                     COSTI Reception Centre\n",
      "SHELTER_ADDRESS                   100 Lippincott Street\n",
      "SHELTER_CITY                                    Toronto\n",
      "SHELTER_PROVINCE                                     ON\n",
      "SHELTER_POSTAL_CODE                             M5S 2P1\n",
      "FACILITY_NAME                    COSTI Reception Centre\n",
      "PROGRAM_NAME           COSTI Reception Ctr CITY Program\n",
      "SECTOR                                            Co-ed\n",
      "OCCUPANCY                                            16\n",
      "CAPACITY                                             16\n",
      "Name: 0, dtype: object\n",
      "OCCUPANCY_DATE                                         01/01/2017\n",
      "ORGANIZATION_NAME         Christie Ossington Neighbourhood Centre\n",
      "SHELTER_NAME                      Christie Ossington Men's Hostel\n",
      "SHELTER_ADDRESS                              973 Lansdowne Avenue\n",
      "SHELTER_CITY                                              Toronto\n",
      "SHELTER_PROVINCE                                               ON\n",
      "SHELTER_POSTAL_CODE                                       M6H 3Z5\n",
      "FACILITY_NAME                     Christie Ossington Men's Hostel\n",
      "PROGRAM_NAME           Christie Ossington Extreme Weather Program\n",
      "SECTOR                                                        Men\n",
      "OCCUPANCY                                                      13\n",
      "CAPACITY                                                       17\n",
      "Name: 1, dtype: object\n"
     ]
    }
   ],
   "source": [
    "print(data.iloc[0])\n",
    "print(data.iloc[1])"
   ]
  },
  {
   "cell_type": "markdown",
   "metadata": {},
   "source": [
    "## Index of relvant values\n",
    "+ Date collected (Occupancy_DATE) [i,0]\n",
    "+ Shelter Name is at index [i,2]\n",
    "+ Shelter address at [1,3]\n",
    "+ Shelter Occupancy at [i,10]\n",
    "+ Shelter Capacity at [i,11]\n"
   ]
  },
  {
   "cell_type": "code",
   "execution_count": 14,
   "metadata": {},
   "outputs": [
    {
     "data": {
      "text/html": [
       "<div>\n",
       "<style scoped>\n",
       "    .dataframe tbody tr th:only-of-type {\n",
       "        vertical-align: middle;\n",
       "    }\n",
       "\n",
       "    .dataframe tbody tr th {\n",
       "        vertical-align: top;\n",
       "    }\n",
       "\n",
       "    .dataframe thead th {\n",
       "        text-align: right;\n",
       "    }\n",
       "</style>\n",
       "<table border=\"1\" class=\"dataframe\">\n",
       "  <thead>\n",
       "    <tr style=\"text-align: right;\">\n",
       "      <th></th>\n",
       "      <th>One</th>\n",
       "      <th>Orange</th>\n",
       "      <th>C</th>\n",
       "      <th>D</th>\n",
       "    </tr>\n",
       "  </thead>\n",
       "  <tbody>\n",
       "    <tr>\n",
       "      <th>2000-01-01</th>\n",
       "      <td>1.453336</td>\n",
       "      <td>0.591906</td>\n",
       "      <td>1.444163</td>\n",
       "      <td>0.829423</td>\n",
       "    </tr>\n",
       "    <tr>\n",
       "      <th>2000-01-02</th>\n",
       "      <td>0.855910</td>\n",
       "      <td>-0.196669</td>\n",
       "      <td>-0.059823</td>\n",
       "      <td>-0.468265</td>\n",
       "    </tr>\n",
       "    <tr>\n",
       "      <th>2000-01-03</th>\n",
       "      <td>-0.326278</td>\n",
       "      <td>0.372777</td>\n",
       "      <td>-0.091989</td>\n",
       "      <td>0.834230</td>\n",
       "    </tr>\n",
       "    <tr>\n",
       "      <th>2000-01-04</th>\n",
       "      <td>0.557051</td>\n",
       "      <td>-0.050783</td>\n",
       "      <td>-2.234943</td>\n",
       "      <td>0.746300</td>\n",
       "    </tr>\n",
       "    <tr>\n",
       "      <th>2000-01-05</th>\n",
       "      <td>-1.232732</td>\n",
       "      <td>1.298350</td>\n",
       "      <td>-1.547637</td>\n",
       "      <td>-1.559510</td>\n",
       "    </tr>\n",
       "    <tr>\n",
       "      <th>2000-01-06</th>\n",
       "      <td>1.351569</td>\n",
       "      <td>-0.024005</td>\n",
       "      <td>0.032072</td>\n",
       "      <td>-1.544221</td>\n",
       "    </tr>\n",
       "    <tr>\n",
       "      <th>2000-01-07</th>\n",
       "      <td>-0.635505</td>\n",
       "      <td>0.930100</td>\n",
       "      <td>-1.560666</td>\n",
       "      <td>0.322390</td>\n",
       "    </tr>\n",
       "    <tr>\n",
       "      <th>2000-01-08</th>\n",
       "      <td>-2.039134</td>\n",
       "      <td>-0.146208</td>\n",
       "      <td>1.021202</td>\n",
       "      <td>-0.019265</td>\n",
       "    </tr>\n",
       "  </tbody>\n",
       "</table>\n",
       "</div>"
      ],
      "text/plain": [
       "                 One    Orange         C         D\n",
       "2000-01-01  1.453336  0.591906  1.444163  0.829423\n",
       "2000-01-02  0.855910 -0.196669 -0.059823 -0.468265\n",
       "2000-01-03 -0.326278  0.372777 -0.091989  0.834230\n",
       "2000-01-04  0.557051 -0.050783 -2.234943  0.746300\n",
       "2000-01-05 -1.232732  1.298350 -1.547637 -1.559510\n",
       "2000-01-06  1.351569 -0.024005  0.032072 -1.544221\n",
       "2000-01-07 -0.635505  0.930100 -1.560666  0.322390\n",
       "2000-01-08 -2.039134 -0.146208  1.021202 -0.019265"
      ]
     },
     "execution_count": 14,
     "metadata": {},
     "output_type": "execute_result"
    }
   ],
   "source": [
    "dates = pd.date_range('1/1/2000', periods=8)\n",
    "df = pd.DataFrame(np.random.randn(8, 4), index=dates, columns=['One', 'Orange', 'C', 'D'])\n",
    "df"
   ]
  },
  {
   "cell_type": "code",
   "execution_count": 18,
   "metadata": {},
   "outputs": [
    {
     "ename": "AttributeError",
     "evalue": "'dict' object has no attribute 'shape'",
     "output_type": "error",
     "traceback": [
      "\u001b[0;31m--------------------------------------------------------------------------\u001b[0m",
      "\u001b[0;31mAttributeError\u001b[0m                           Traceback (most recent call last)",
      "\u001b[0;32m<ipython-input-18-20d7dd864d29>\u001b[0m in \u001b[0;36m<module>\u001b[0;34m\u001b[0m\n\u001b[0;32m----> 1\u001b[0;31m \u001b[0mpanel\u001b[0m \u001b[0;34m=\u001b[0m \u001b[0mpd\u001b[0m\u001b[0;34m.\u001b[0m\u001b[0mPanel\u001b[0m\u001b[0;34m.\u001b[0m\u001b[0mto_frame\u001b[0m\u001b[0;34m(\u001b[0m\u001b[0;34m{\u001b[0m\u001b[0;34m'one'\u001b[0m \u001b[0;34m:\u001b[0m \u001b[0mdf\u001b[0m\u001b[0;34m,\u001b[0m \u001b[0;34m'two'\u001b[0m \u001b[0;34m:\u001b[0m \u001b[0mdf\u001b[0m \u001b[0;34m-\u001b[0m \u001b[0mdf\u001b[0m\u001b[0;34m.\u001b[0m\u001b[0mmean\u001b[0m\u001b[0;34m(\u001b[0m\u001b[0;34m)\u001b[0m\u001b[0;34m}\u001b[0m\u001b[0;34m)\u001b[0m\u001b[0;34m\u001b[0m\u001b[0m\n\u001b[0m\u001b[1;32m      2\u001b[0m \u001b[0mpanel\u001b[0m\u001b[0;34m\u001b[0m\u001b[0m\n",
      "\u001b[0;32m/usr/local/lib/python3.6/dist-packages/pandas/core/panel.py\u001b[0m in \u001b[0;36mto_frame\u001b[0;34m(self, filter_observations)\u001b[0m\n\u001b[1;32m    933\u001b[0m         \u001b[0my\u001b[0m \u001b[0;34m:\u001b[0m \u001b[0mDataFrame\u001b[0m\u001b[0;34m\u001b[0m\u001b[0m\n\u001b[1;32m    934\u001b[0m         \"\"\"\n\u001b[0;32m--> 935\u001b[0;31m         \u001b[0m_\u001b[0m\u001b[0;34m,\u001b[0m \u001b[0mN\u001b[0m\u001b[0;34m,\u001b[0m \u001b[0mK\u001b[0m \u001b[0;34m=\u001b[0m \u001b[0mself\u001b[0m\u001b[0;34m.\u001b[0m\u001b[0mshape\u001b[0m\u001b[0;34m\u001b[0m\u001b[0m\n\u001b[0m\u001b[1;32m    936\u001b[0m \u001b[0;34m\u001b[0m\u001b[0m\n\u001b[1;32m    937\u001b[0m         \u001b[0;32mif\u001b[0m \u001b[0mfilter_observations\u001b[0m\u001b[0;34m:\u001b[0m\u001b[0;34m\u001b[0m\u001b[0m\n",
      "\u001b[0;31mAttributeError\u001b[0m: 'dict' object has no attribute 'shape'"
     ]
    }
   ],
   "source": [
    "panel = pd.Panel.to_frame({'one' : df, 'two' : df - df.mean()})\n",
    "panel"
   ]
  },
  {
   "cell_type": "code",
   "execution_count": null,
   "metadata": {},
   "outputs": [],
   "source": []
  }
 ],
 "metadata": {
  "kernelspec": {
   "display_name": "Python 3",
   "language": "python",
   "name": "python3"
  },
  "language_info": {
   "codemirror_mode": {
    "name": "ipython",
    "version": 3
   },
   "file_extension": ".py",
   "mimetype": "text/x-python",
   "name": "python",
   "nbconvert_exporter": "python",
   "pygments_lexer": "ipython3",
   "version": "3.6.6"
  }
 },
 "nbformat": 4,
 "nbformat_minor": 2
}
