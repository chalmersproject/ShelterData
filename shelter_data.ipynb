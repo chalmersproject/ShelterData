{
 "cells": [
  {
   "cell_type": "markdown",
   "metadata": {},
   "source": [
    "## Exploring Shelter Data\n",
    "I'm taking it upon myself to learn a bit about data science. \n",
    "\n",
    "Since I have a lot of interest in homeless services in Toronto (see [ChalmersCards](chalmerscards.com)), I felt Toronto's public shelter occupancy dataset would make a good learning environment.\n",
    "\n",
    "---\n",
    "#### My current understanding of the application of datascience:\n",
    "Data Science: The task of generating insights.\n",
    "\n",
    "Actionable insights are determined by understanding the values of the client/subject, and using those values to define an appropriate research question. \n",
    "\n",
    "1. A research **question** is used to define the research **method**. \n",
    "2. Executing the **method** will render a **result and insights**. \n",
    "3. From the **insight**, **actions** can be determined. \n",
    "\n",
    "---\n",
    "#### Understanding the client\n",
    "One of shelters' greatest concerns is capacity. Other than shelter names and propteties, it's the only metric tracked in this database.\n",
    "\n",
    "Maybe my question could be:\n",
    "**Question** Which shelters are most susceptible to hitting capacity?\n",
    "or\n",
    "**Question** During what time of the year is Shelter occupancy highest?\n",
    "or\n",
    "**Question** Which shelter type (male/femeale/mix/family) has the highest occupancy?\n",
    "\n",
    "> I'll tackle these items one at a time"
   ]
  },
  {
   "cell_type": "markdown",
   "metadata": {},
   "source": [
    "# Which shelters are most suseptible to hitting capacity?\n",
    "\n",
    "+ Question : Which shelters are most susceptible to hitting capacity?\n",
    "+ Method : For each shelter, collect capacity numbers for the year. Find which shelters spend the most time with their occupancy close to their capacity"
   ]
  },
  {
   "cell_type": "code",
   "execution_count": 1,
   "metadata": {},
   "outputs": [],
   "source": [
    "import pandas"
   ]
  },
  {
   "cell_type": "code",
   "execution_count": 2,
   "metadata": {},
   "outputs": [],
   "source": [
    "import numpy as np"
   ]
  },
  {
   "cell_type": "code",
   "execution_count": 3,
   "metadata": {},
   "outputs": [],
   "source": [
    "import matplotlib.pyplot as plt"
   ]
  },
  {
   "cell_type": "markdown",
   "metadata": {},
   "source": [
    "## Importing Libraries\n",
    "I don't really know what I'm doing, so I'll grab pandas, it's dependancy numPy, and a visualization library matPlotLib. "
   ]
  },
  {
   "cell_type": "code",
   "execution_count": 4,
   "metadata": {
    "scrolled": false
   },
   "outputs": [
    {
     "name": "stdout",
     "output_type": "stream",
     "text": [
      "Index(['OCCUPANCY_DATE', 'ORGANIZATION_NAME', 'SHELTER_NAME',\n",
      "       'SHELTER_ADDRESS', 'SHELTER_CITY', 'SHELTER_PROVINCE',\n",
      "       'SHELTER_POSTAL_CODE', 'FACILITY_NAME', 'PROGRAM_NAME', 'SECTOR',\n",
      "       'OCCUPANCY', 'CAPACITY'],\n",
      "      dtype='object')\n"
     ]
    }
   ],
   "source": [
    "data = pandas.read_csv('data/shelter_Occupancy_2017.csv')\n",
    "print(data.columns)"
   ]
  },
  {
   "cell_type": "markdown",
   "metadata": {},
   "source": [
    "## Importing dataset\n",
    "I've grabbed the shelter_occupancy_2017.csv dataset from Toronto's open data portal. I've also printed all the columns for reference.\n",
    "\n",
    "Now what I need to do is grab all the shelters occupancy/capacity numbers and find which shelters were always close to capacity\n",
    "\n",
    "## Defining the method\n",
    "This may be an unfair assumption, but I'll make it anyway:\n",
    "\n",
    "---\n",
    "> A shelter's facilities will be built around it's capacity. Therefore, what matters most to the shelter's performance is the proportion of free beds, and not the number of free beds. \n",
    "\n",
    "For example, using the above assumption, we would infer that:\n",
    "> Shelter 'A' that is at 68/69 beds capacity\n",
    "\n",
    "is in worse shape than \n",
    "> Shelter 'B' that is at 9/10 beds capacity\n",
    "\n",
    "because shelter 'A' has 0.014% capacity left, while shelter 'B' has 10% capacity left\n",
    "\n",
    "---\n",
    "What I'll try to find out:\n",
    "1. find out: What are the top 90th percentile shelters for highest capacity percentage\n",
    "2. find out: of that top 10%, which 3 shelters most often hit 100% capacity"
   ]
  },
  {
   "cell_type": "code",
   "execution_count": 13,
   "metadata": {},
   "outputs": [
    {
     "name": "stdout",
     "output_type": "stream",
     "text": [
      "OCCUPANCY_DATE                               01/01/2017\n",
      "ORGANIZATION_NAME              COSTI Immigrant Services\n",
      "SHELTER_NAME                     COSTI Reception Centre\n",
      "SHELTER_ADDRESS                   100 Lippincott Street\n",
      "SHELTER_CITY                                    Toronto\n",
      "SHELTER_PROVINCE                                     ON\n",
      "SHELTER_POSTAL_CODE                             M5S 2P1\n",
      "FACILITY_NAME                    COSTI Reception Centre\n",
      "PROGRAM_NAME           COSTI Reception Ctr CITY Program\n",
      "SECTOR                                            Co-ed\n",
      "OCCUPANCY                                            16\n",
      "CAPACITY                                             16\n",
      "Name: 0, dtype: object\n",
      "OCCUPANCY_DATE                                         01/01/2017\n",
      "ORGANIZATION_NAME         Christie Ossington Neighbourhood Centre\n",
      "SHELTER_NAME                      Christie Ossington Men's Hostel\n",
      "SHELTER_ADDRESS                              973 Lansdowne Avenue\n",
      "SHELTER_CITY                                              Toronto\n",
      "SHELTER_PROVINCE                                               ON\n",
      "SHELTER_POSTAL_CODE                                       M6H 3Z5\n",
      "FACILITY_NAME                     Christie Ossington Men's Hostel\n",
      "PROGRAM_NAME           Christie Ossington Extreme Weather Program\n",
      "SECTOR                                                        Men\n",
      "OCCUPANCY                                                      13\n",
      "CAPACITY                                                       17\n",
      "Name: 1, dtype: object\n"
     ]
    }
   ],
   "source": [
    "print(data.iloc[0])\n",
    "print(data.iloc[1])"
   ]
  },
  {
   "cell_type": "markdown",
   "metadata": {},
   "source": [
    "## Index of relvant values\n",
    "+ Date collected (Occupancy_DATE) [i,0]\n",
    "+ Shelter Name is at index [i,2]\n",
    "+ Shelter address at [1,3]\n",
    "+ Shelter Occupancy at [i,10]\n",
    "+ Shelter Capacity at [i,11]\n"
   ]
  },
  {
   "cell_type": "code",
   "execution_count": null,
   "metadata": {},
   "outputs": [],
   "source": []
  }
 ],
 "metadata": {
  "kernelspec": {
   "display_name": "Python 3",
   "language": "python",
   "name": "python3"
  },
  "language_info": {
   "codemirror_mode": {
    "name": "ipython",
    "version": 3
   },
   "file_extension": ".py",
   "mimetype": "text/x-python",
   "name": "python",
   "nbconvert_exporter": "python",
   "pygments_lexer": "ipython3",
   "version": "3.6.6"
  }
 },
 "nbformat": 4,
 "nbformat_minor": 2
}
